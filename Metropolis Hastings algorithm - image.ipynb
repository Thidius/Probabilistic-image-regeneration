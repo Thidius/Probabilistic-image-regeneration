{
 "cells": [
  {
   "cell_type": "code",
   "execution_count": 6,
   "id": "236796bf-e0bb-42d7-8e7f-ecf439c10136",
   "metadata": {},
   "outputs": [],
   "source": [
    "# libraries\n",
    "%matplotlib inline\n",
    "import matplotlib.pyplot as plt\n",
    "import numpy as np\n",
    "import cv2"
   ]
  },
  {
   "cell_type": "code",
   "execution_count": 20,
   "id": "8e570f35-7c37-4591-8dac-31f83356a000",
   "metadata": {},
   "outputs": [
    {
     "name": "stdout",
     "output_type": "stream",
     "text": [
      "[0, 0]\n"
     ]
    },
    {
     "ename": "KeyboardInterrupt",
     "evalue": "",
     "output_type": "error",
     "traceback": [
      "\u001b[1;31m---------------------------------------------------------------------------\u001b[0m",
      "\u001b[1;31mKeyboardInterrupt\u001b[0m                         Traceback (most recent call last)",
      "\u001b[1;32m~\\AppData\\Local\\Temp/ipykernel_21696/3448447813.py\u001b[0m in \u001b[0;36m<module>\u001b[1;34m\u001b[0m\n\u001b[0;32m     65\u001b[0m     \u001b[1;32mreturn\u001b[0m \u001b[0mnp\u001b[0m\u001b[1;33m.\u001b[0m\u001b[0marray\u001b[0m\u001b[1;33m(\u001b[0m\u001b[0msamples\u001b[0m\u001b[1;33m)\u001b[0m\u001b[1;33m\u001b[0m\u001b[1;33m\u001b[0m\u001b[0m\n\u001b[0;32m     66\u001b[0m \u001b[1;33m\u001b[0m\u001b[0m\n\u001b[1;32m---> 67\u001b[1;33m \u001b[0msamples\u001b[0m \u001b[1;33m=\u001b[0m \u001b[0msampler\u001b[0m\u001b[1;33m(\u001b[0m\u001b[0mim_posterior_func\u001b[0m\u001b[1;33m,\u001b[0m \u001b[1;36m2\u001b[0m\u001b[1;33m,\u001b[0m \u001b[0mimwidth\u001b[0m\u001b[1;33m,\u001b[0m \u001b[0mimheight\u001b[0m\u001b[1;33m,\u001b[0m \u001b[0mno_of_samples\u001b[0m\u001b[1;33m=\u001b[0m\u001b[0mnum\u001b[0m\u001b[1;33m,\u001b[0m \u001b[0mstart_position\u001b[0m\u001b[1;33m=\u001b[0m\u001b[1;32mNone\u001b[0m\u001b[1;33m)\u001b[0m \u001b[1;31m# position samples\u001b[0m\u001b[1;33m\u001b[0m\u001b[1;33m\u001b[0m\u001b[0m\n\u001b[0m\u001b[0;32m     68\u001b[0m \u001b[0mxs\u001b[0m\u001b[1;33m,\u001b[0m\u001b[0mys\u001b[0m \u001b[1;33m=\u001b[0m \u001b[0msamples\u001b[0m\u001b[1;33m.\u001b[0m\u001b[0mT\u001b[0m\u001b[1;33m\u001b[0m\u001b[1;33m\u001b[0m\u001b[0m\n\u001b[0;32m     69\u001b[0m \u001b[1;33m\u001b[0m\u001b[0m\n",
      "\u001b[1;32m~\\AppData\\Local\\Temp/ipykernel_21696/3448447813.py\u001b[0m in \u001b[0;36msampler\u001b[1;34m(posterior_func, Np, width, height, no_of_samples, start_position)\u001b[0m\n\u001b[0;32m     62\u001b[0m \u001b[1;33m\u001b[0m\u001b[0m\n\u001b[0;32m     63\u001b[0m         \u001b[1;31m# Extend the samples array vertically for each iteration\u001b[0m\u001b[1;33m\u001b[0m\u001b[1;33m\u001b[0m\u001b[1;33m\u001b[0m\u001b[0m\n\u001b[1;32m---> 64\u001b[1;33m         \u001b[0msamples\u001b[0m\u001b[1;33m.\u001b[0m\u001b[0mappend\u001b[0m\u001b[1;33m(\u001b[0m\u001b[0mlist\u001b[0m\u001b[1;33m(\u001b[0m\u001b[0mcurrent_position\u001b[0m\u001b[1;33m)\u001b[0m\u001b[1;33m)\u001b[0m\u001b[1;33m\u001b[0m\u001b[1;33m\u001b[0m\u001b[0m\n\u001b[0m\u001b[0;32m     65\u001b[0m     \u001b[1;32mreturn\u001b[0m \u001b[0mnp\u001b[0m\u001b[1;33m.\u001b[0m\u001b[0marray\u001b[0m\u001b[1;33m(\u001b[0m\u001b[0msamples\u001b[0m\u001b[1;33m)\u001b[0m\u001b[1;33m\u001b[0m\u001b[1;33m\u001b[0m\u001b[0m\n\u001b[0;32m     66\u001b[0m \u001b[1;33m\u001b[0m\u001b[0m\n",
      "\u001b[1;31mKeyboardInterrupt\u001b[0m: "
     ]
    }
   ],
   "source": [
    "# reading image\n",
    "inputimage = cv2.imread(r\"C:\\Users\\amirt\\OneDrive\\Skrivbord\\image.png\")\n",
    "dimensions = list(inputimage.shape)\n",
    "# fetching image dimensions\n",
    "imwidth = dimensions[0]\n",
    "imheight = dimensions[1]\n",
    "\n",
    "num = 10000000 # no_of_samples\n",
    "def image_to_matrix(image, width, height):\n",
    "    'converting color image to BnW image, then creating matrix T from position of each pixel'\n",
    "    'T is then returned as a normalized probability distribution over width x height'\n",
    "    gray_image = cv2.cvtColor(image, cv2.COLOR_BGR2GRAY)\n",
    "    T = cv2.bitwise_not(gray_image)\n",
    "    return np.array(T)/ (255*width*height)\n",
    "\n",
    "prop_distribution = image_to_matrix(inputimage, imwidth, imheight) # proposed distribution\n",
    "\n",
    "def im_posterior_func(x):\n",
    "    return prop_distribution.item((int(np.floor(x[0])), int(np.floor(x[1]))))\n",
    "\n",
    "def sampler(posterior_func, Np, width, height, no_of_samples=4, start_position=None):\n",
    "    \n",
    "    'Metropolis-hastings-algorithm'\n",
    "    # starting parameter position\n",
    "    if start_position==None:\n",
    "        current_position = [0,0]\n",
    "    else:\n",
    "        assert len(start_position)==Np, \"start_position is not correct length\"\n",
    "        current_position = [0,0]\n",
    "        \n",
    "    samples = [list(current_position)]\n",
    "    print(current_position)\n",
    "    # fixed covariance matrix\n",
    "    \n",
    "    # Sampling loop\n",
    "    for i in range(no_of_samples):\n",
    "        # suggest new position\n",
    "        x = np.random.uniform(low=0, high=height)\n",
    "        y = np.random.uniform(low =0, high = width)\n",
    "        X_n = [x, y]\n",
    "        \n",
    "        # Compute log posteriors of current and proposed position       \n",
    "        cur_posterior = posterior_func(current_position)\n",
    "        prop_posterior = posterior_func(X_n)\n",
    "        \n",
    "        # Acceptance probability\n",
    "        A = 1\n",
    "        if cur_posterior == 0:\n",
    "            current_position = X_n\n",
    "            samples.append(list(current_position))\n",
    "            continue\n",
    "        if prop_posterior/cur_posterior < 1:\n",
    "            A = prop_posterior/cur_posterior\n",
    "            \n",
    "        # Possibly update position\n",
    "        if A >= 1:\n",
    "            current_position = X_n\n",
    "        else:\n",
    "            u = np.random.uniform(0,1)\n",
    "            if A >= u:\n",
    "                current_position = X_n\n",
    "                \n",
    "        # Extend the samples array vertically for each iteration\n",
    "        samples.append(list(current_position))\n",
    "    return np.array(samples)\n",
    "\n",
    "samples = sampler(im_posterior_func, 2, imwidth, imheight, no_of_samples=num, start_position=None) # position samples\n",
    "xs,ys = samples.T\n",
    "\n",
    "plt.hist2d(ys,-xs, bins = [np.arange(0, imheight, 1), np.arange(-imwidth,0,1)], cmap = plt.cm.binary)\n",
    "plt.show()\n"
   ]
  },
  {
   "cell_type": "code",
   "execution_count": null,
   "id": "2bc4d81b-0f49-47a1-a945-6543cf7c86b5",
   "metadata": {},
   "outputs": [],
   "source": []
  },
  {
   "cell_type": "code",
   "execution_count": null,
   "id": "eea9aab7-b679-487e-87e3-523cea42d1b0",
   "metadata": {},
   "outputs": [],
   "source": []
  }
 ],
 "metadata": {
  "kernelspec": {
   "display_name": "Python 3 (ipykernel)",
   "language": "python",
   "name": "python3"
  },
  "language_info": {
   "codemirror_mode": {
    "name": "ipython",
    "version": 3
   },
   "file_extension": ".py",
   "mimetype": "text/x-python",
   "name": "python",
   "nbconvert_exporter": "python",
   "pygments_lexer": "ipython3",
   "version": "3.8.12"
  }
 },
 "nbformat": 4,
 "nbformat_minor": 5
}
